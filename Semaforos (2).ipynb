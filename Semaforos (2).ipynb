{
 "cells": [
  {
   "cell_type": "code",
   "execution_count": 4,
   "id": "204584df",
   "metadata": {},
   "outputs": [],
   "source": [
    "def compatible(n,l):\n",
    "    for i in l:\n",
    "        if n in inc[i]:\n",
    "            return 1\n",
    "    return 0        "
   ]
  },
  {
   "cell_type": "code",
   "execution_count": 5,
   "id": "f62e0505",
   "metadata": {},
   "outputs": [],
   "source": [
    "def indmax(l):\n",
    "    max_value = None\n",
    "    max_idx = None\n",
    "\n",
    "    for idx, num in enumerate(l):\n",
    "        if (max_value is None or num > max_value):\n",
    "            max_value = num\n",
    "            max_idx = idx\n",
    "    return(max_idx)"
   ]
  },
  {
   "cell_type": "code",
   "execution_count": 6,
   "id": "c27d86e7",
   "metadata": {},
   "outputs": [],
   "source": [
    "def voraz(sem,time):\n",
    "    solucion = []\n",
    "    t_next = list(time)\n",
    "    t = list(time)\n",
    "    for i in range(13):\n",
    "        x = indmax(t)\n",
    "        if compatible(x,solucion)== 0:\n",
    "            solucion.append(x)\n",
    "            t[x]=-1\n",
    "            t_next[x]=0\n",
    "        else:\n",
    "            t[x]=-1\n",
    "            t_next[x]+=1        \n",
    "    return(solucion,t_next)\n",
    "        \n",
    "        \n",
    "        "
   ]
  },
  {
   "cell_type": "code",
   "execution_count": 7,
   "id": "c26f145e",
   "metadata": {},
   "outputs": [],
   "source": [
    "inc = [[4,5,6,7,11,12,3],[4,5,6,7,8,9,11,12],[5,6,8,9,11,12],[0,11],[7,12,1,0,11,8,9],[0,1,12,11,9,8,2],[0,1,2,9,10,11],[4,12,1,0],[2,1,5,4,12],[4,5,6,10,11,12,1,2],[6,9],[4,3,5,6,9,0,1,2],[1,2,4,5,7,8,9,0]]\n",
    "sem = [0,1,2,3,4,5,6,7,8,9,10,11,12]\n",
    "time = [0,0,0,0,0,0,0,0,0,0,0,0,0]"
   ]
  },
  {
   "cell_type": "code",
   "execution_count": 8,
   "id": "043b5972",
   "metadata": {
    "scrolled": true
   },
   "outputs": [
    {
     "name": "stdout",
     "output_type": "stream",
     "text": [
      "Semaforos [[0, 1, 2, 10], [3, 4, 5, 6], [7, 8, 9, 3], [11, 12, 10], [0, 1, 2, 10], [4, 5, 6, 3], [7, 8, 9, 3], [11, 12, 10], [0, 1, 2, 10], [4, 5, 6, 3], [7, 8, 9, 3], [11, 12, 10], [0, 1, 2, 10]]\n",
      "tiempos [[0, 0, 0, 1, 1, 1, 1, 1, 1, 1, 0, 1, 1], [1, 1, 1, 0, 0, 0, 0, 2, 2, 2, 1, 2, 2], [2, 2, 2, 0, 1, 1, 1, 0, 0, 0, 2, 3, 3], [3, 3, 3, 1, 2, 2, 2, 1, 1, 1, 0, 0, 0], [0, 0, 0, 2, 3, 3, 3, 2, 2, 2, 0, 1, 1], [1, 1, 1, 0, 0, 0, 0, 3, 3, 3, 1, 2, 2], [2, 2, 2, 0, 1, 1, 1, 0, 0, 0, 2, 3, 3], [3, 3, 3, 1, 2, 2, 2, 1, 1, 1, 0, 0, 0], [0, 0, 0, 2, 3, 3, 3, 2, 2, 2, 0, 1, 1], [1, 1, 1, 0, 0, 0, 0, 3, 3, 3, 1, 2, 2], [2, 2, 2, 0, 1, 1, 1, 0, 0, 0, 2, 3, 3], [3, 3, 3, 1, 2, 2, 2, 1, 1, 1, 0, 0, 0], [0, 0, 0, 2, 3, 3, 3, 2, 2, 2, 0, 1, 1]]\n"
     ]
    }
   ],
   "source": [
    "semaforos=[voraz(sem,time)[0]]\n",
    "tiempos=[voraz(sem,time)[1]]\n",
    "for i in range (12):\n",
    "    semaforos.append(voraz(sem,tiempos[-1])[0])\n",
    "    tiempos.append(voraz(sem,tiempos[-1])[1])\n",
    "print('Semaforos',semaforos)\n",
    "print('tiempos',tiempos)\n"
   ]
  },
  {
   "cell_type": "code",
   "execution_count": null,
   "id": "1117d057",
   "metadata": {},
   "outputs": [],
   "source": []
  }
 ],
 "metadata": {
  "kernelspec": {
   "display_name": "Python 3 (ipykernel)",
   "language": "python",
   "name": "python3"
  },
  "language_info": {
   "codemirror_mode": {
    "name": "ipython",
    "version": 3
   },
   "file_extension": ".py",
   "mimetype": "text/x-python",
   "name": "python",
   "nbconvert_exporter": "python",
   "pygments_lexer": "ipython3",
   "version": "3.9.7"
  }
 },
 "nbformat": 4,
 "nbformat_minor": 5
}
