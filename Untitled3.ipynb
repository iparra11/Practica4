{
 "cells": [
  {
   "cell_type": "code",
   "execution_count": 171,
   "id": "dfe1d99a",
   "metadata": {},
   "outputs": [],
   "source": [
    "from random import choice\n",
    "def voraz(c,x1,mat):\n",
    "    sol=[]\n",
    "    t1=0\n",
    "    while c!=[]:\n",
    "        if t1==0:\n",
    "            x=x1\n",
    "            t1=1\n",
    "        else:\n",
    "            x=choice(c)\n",
    "        c.remove(x)\n",
    "        if sol==[]:\n",
    "            sol.append([x])\n",
    "        else:\n",
    "            for co in sol:\n",
    "                t=0\n",
    "                if compatible(x,co,mat)==True:\n",
    "                    co.append(x)\n",
    "                    t=1\n",
    "                    break\n",
    "            if t==0:\n",
    "                sol.insert(0,[x])\n",
    "    return sol"
   ]
  },
  {
   "cell_type": "code",
   "execution_count": 172,
   "id": "88b4d987",
   "metadata": {},
   "outputs": [],
   "source": [
    "def compatible(x,co,mat):\n",
    "    m=mat\n",
    "    l=0\n",
    "    for n in co:\n",
    "        if m[x][n]!=0:\n",
    "            l+=1\n",
    "    if l==0:\n",
    "        return True\n",
    "    else:\n",
    "        return False"
   ]
  },
  {
   "cell_type": "code",
   "execution_count": 251,
   "id": "9762dcd6",
   "metadata": {
    "scrolled": true
   },
   "outputs": [
    {
     "data": {
      "text/plain": [
       "[[53, 34, 67, 78],\n",
       " [32, 1, 30, 45],\n",
       " [37, 86, 62, 54],\n",
       " [55, 38, 47, 2],\n",
       " [68, 44, 8, 49, 26],\n",
       " [75, 6, 97, 43],\n",
       " [90, 9, 65, 35, 56],\n",
       " [79, 19, 92],\n",
       " [72, 41, 95, 84, 61],\n",
       " [76, 20, 25, 17, 58, 59, 81],\n",
       " [94, 27, 60, 98, 42, 15, 48, 66, 4],\n",
       " [77, 16, 85, 21, 50, 89, 7, 24],\n",
       " [14, 5, 70, 73, 11, 28],\n",
       " [29, 83, 46, 88, 82, 69, 12],\n",
       " [10, 57, 3, 39, 71, 96],\n",
       " [23, 18, 13, 52, 22, 31, 40],\n",
       " [64, 63, 36, 51, 33, 99],\n",
       " [0, 80, 74, 91, 93, 87]]"
      ]
     },
     "execution_count": 251,
     "metadata": {},
     "output_type": "execute_result"
    }
   ],
   "source": [
    "y=hmat(100)\n",
    "voraz(hc(100),0,y)"
   ]
  },
  {
   "cell_type": "code",
   "execution_count": 149,
   "id": "c81b070e",
   "metadata": {},
   "outputs": [],
   "source": [
    "from random import choice\n",
    "def hmat(n):\n",
    "    p=[0,1,2]\n",
    "    m=[]\n",
    "    for i in range(n):\n",
    "        m.insert(i,[0]*n)\n",
    "    for k in range(n):\n",
    "        for j in range(n):\n",
    "            if j>k:\n",
    "                e=choice(p)\n",
    "                if e==2:\n",
    "                    m[k][j]=1\n",
    "                    m[j][k]=1\n",
    "    return m"
   ]
  },
  {
   "cell_type": "code",
   "execution_count": 185,
   "id": "92d431b8",
   "metadata": {},
   "outputs": [],
   "source": [
    "def hc(n):\n",
    "    c=[]\n",
    "    for i in range(n):\n",
    "        c.append(i)\n",
    "    return c"
   ]
  },
  {
   "cell_type": "code",
   "execution_count": 208,
   "id": "890a26af",
   "metadata": {},
   "outputs": [],
   "source": [
    "def hcp(n):\n",
    "    c=[]\n",
    "    for i in range(n):\n",
    "        c.append(i+1)\n",
    "    return c"
   ]
  },
  {
   "cell_type": "code",
   "execution_count": 215,
   "id": "a5773b5b",
   "metadata": {},
   "outputs": [],
   "source": [
    "m=[[0,0,0,1,1,1,1,1,0,0,0,0,1],[0,0,0,0,1,1,1,1,0,1,0,1,1],[0,0,0,0,0,1,1,0,1,1,0,1,1],[1,0,0,0,0,0,0,0,0,0,0,1,0],[1,1,0,0,0,0,0,1,1,1,0,1,1],[1,1,1,0,0,0,0,0,1,1,0,1,1],[1,1,1,0,0,0,0,0,0,1,1,0,0],[0,1,0,0,1,0,0,0,0,0,0,0,1],[0,1,1,0,1,1,0,0,0,0,0,0,1],[0,1,1,0,1,1,1,0,0,0,1,1,1],[0,0,0,0,0,0,1,0,0,1,0,0,0],[1,1,1,1,1,1,1,0,0,1,0,0,0],[1,1,1,0,1,1,0,1,1,1,0,0,0]]"
   ]
  },
  {
   "cell_type": "code",
   "execution_count": 250,
   "id": "88b6d536",
   "metadata": {},
   "outputs": [
    {
     "data": {
      "image/png": "[encoded data removed]",
      "text/plain": [
       "<Figure size 504x266.4 with 1 Axes>"
      ]
     },
     "metadata": {
      "needs_background": "light"
     },
     "output_type": "display_data"
    }
   ],
   "source": [
    "import matplotlib.pyplot as plt\n",
    "import timeit\n",
    "t=[]\n",
    "for n in range(1,2001):\n",
    "    c=hc(n)\n",
    "    m=hmat(n)\n",
    "    tn=[]\n",
    "    for i in range(n):\n",
    "        t1=timeit.default_timer()\n",
    "        voraz(c,i,m)\n",
    "        t2=timeit.default_timer()\n",
    "        tn.append(t2-t1)\n",
    "    t.append(sum(tn)/len(tn))\n",
    "plt.figure(figsize=(7, 3.7))\n",
    "p1=plt.plot(hcp(2000), t, 'go', label='Coloreación')\n",
    "plt.axis()\n",
    "plt.ylabel('Coste temporal en s')\n",
    "plt.xlabel('Tamaño del grafo')\n",
    "plt.legend()\n",
    "plt.show(p1)"
   ]
  },
  {
   "cell_type": "code",
   "execution_count": 248,
   "id": "9186867d",
   "metadata": {},
   "outputs": [
    {
     "data": {
      "text/plain": [
       "[[9, 7, 8, 3], [12, 10, 11], [4, 5, 6], [0, 2, 1]]"
      ]
     },
     "execution_count": 248,
     "metadata": {},
     "output_type": "execute_result"
    }
   ],
   "source": [
    "voraz(hc(13),0,m)"
   ]
  },
  {
   "cell_type": "code",
   "execution_count": 252,
   "id": "eafac9f5",
   "metadata": {},
   "outputs": [],
   "source": [
    "def indmax(l):\n",
    "    max_value = None\n",
    "    max_idx = None\n",
    "\n",
    "    for idx, num in enumerate(l):\n",
    "        if (max_value is None or num > max_value):\n",
    "            max_value = num\n",
    "            max_idx = idx\n",
    "    return(max_idx)"
   ]
  },
  {
   "cell_type": "code",
   "execution_count": 255,
   "id": "58eb1fad",
   "metadata": {},
   "outputs": [],
   "source": [
    "def voraz2(sem,time,mat):\n",
    "    solucion = []\n",
    "    t_next = list(time)\n",
    "    t = list(time)\n",
    "    for i in range(len(mat)):\n",
    "        x = indmax(t)\n",
    "        if compatible(x,solucion,mat)== True:\n",
    "            solucion.append(x)\n",
    "            t[x]=-1\n",
    "            t_next[x]=0\n",
    "        else:\n",
    "            t[x]=-1\n",
    "            t_next[x]+=1        \n",
    "    return(solucion,t_next) "
   ]
  },
  {
   "cell_type": "code",
   "execution_count": 257,
   "id": "f1888b10",
   "metadata": {},
   "outputs": [],
   "source": [
    "import random\n",
    "def timr(n):\n",
    "    t=[]\n",
    "    for i in range(n):\n",
    "        t.append(random.randint(0,n))\n",
    "    return t"
   ]
  },
  {
   "cell_type": "code",
   "execution_count": 259,
   "id": "3c0e023f",
   "metadata": {},
   "outputs": [
    {
     "data": {
      "image/png": "[encoded data removed]",
      "text/plain": [
       "<Figure size 504x266.4 with 1 Axes>"
      ]
     },
     "metadata": {
      "needs_background": "light"
     },
     "output_type": "display_data"
    }
   ],
   "source": [
    "import matplotlib.pyplot as plt\n",
    "import timeit\n",
    "tf1=[]\n",
    "tf2=[]\n",
    "for n in range(1,101):\n",
    "    c=hc(n)\n",
    "    m=hmat(n)\n",
    "    tn1=[]\n",
    "    tn2=[]\n",
    "    for i in range(n):\n",
    "        t1=timeit.default_timer()\n",
    "        voraz(c,i,m)\n",
    "        t2=timeit.default_timer()\n",
    "        tn1.append(t2-t1)\n",
    "        time=timr(n)\n",
    "        t3=timeit.default_timer()\n",
    "        semaforos=[voraz2(c,time,m)[0]]\n",
    "        tiempos=[voraz2(c,time,m)[1]]\n",
    "        for j in range (30):\n",
    "            semaforos.append(voraz2(c,tiempos[-1],m)[0])\n",
    "            if voraz2(c,tiempos[-1],m)[1] in tiempos:\n",
    "                break\n",
    "            else:\n",
    "                tiempos.append(voraz2(c,tiempos[-1],m)[1])\n",
    "        t4=timeit.default_timer()\n",
    "        tn2.append(t4-t3)\n",
    "    tf1.append(sum(tn1)/len(tn1))\n",
    "    tf2.append(sum(tn2)/len(tn2))\n",
    "plt.figure(figsize=(7, 3.7))\n",
    "p1=plt.plot(hcp(100), tf1, 'go', label='Coloreación')\n",
    "p2=plt.plot(hcp(100), tf2, 'ro', label='Minimizar Tiempo De Espera')\n",
    "plt.axis()\n",
    "plt.ylabel('Coste temporal en s')\n",
    "plt.xlabel('Tamaño del grafo')\n",
    "plt.legend()\n",
    "plt.show([p1,p2])"
   ]
  },
  {
   "cell_type": "code",
   "execution_count": null,
   "id": "95f77e79",
   "metadata": {},
   "outputs": [],
   "source": []
  }
 ],
 "metadata": {
  "kernelspec": {
   "display_name": "Python 3 (ipykernel)",
   "language": "python",
   "name": "python3"
  },
  "language_info": {
   "codemirror_mode": {
    "name": "ipython",
    "version": 3
   },
   "file_extension": ".py",
   "mimetype": "text/x-python",
   "name": "python",
   "nbconvert_exporter": "python",
   "pygments_lexer": "ipython3",
   "version": "3.9.7"
  }
 },
 "nbformat": 4,
 "nbformat_minor": 5
}
